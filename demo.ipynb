{
 "cells": [
  {
   "cell_type": "code",
   "execution_count": 5,
   "metadata": {
    "collapsed": false
   },
   "outputs": [
    {
     "name": "stdout",
     "output_type": "stream",
     "text": [
      "<class 'pandas.core.frame.DataFrame'>\n",
      "Int64Index: 392 entries, 0 to 391\n",
      "Data columns (total 9 columns):\n",
      "mpg       392 non-null float64\n",
      "cyl       392 non-null category\n",
      "displ     392 non-null float64\n",
      "hp        392 non-null int64\n",
      "weight    392 non-null int64\n",
      "accel     392 non-null float64\n",
      "yr        392 non-null int64\n",
      "origin    392 non-null category\n",
      "name      392 non-null object\n",
      "dtypes: category(2), float64(3), int64(3), object(1)\n",
      "memory usage: 25.3+ KB\n",
      "None\n",
      "mpg has  127  unique values\n",
      "displ has  81  unique values\n",
      "hp has  93  unique values\n",
      "weight has  346  unique values\n",
      "accel has  95  unique values\n",
      "yr has  13  unique values\n",
      "name has  301  unique values\n",
      "<class 'pandas.core.frame.DataFrame'>\n",
      "Int64Index: 392 entries, 0 to 391\n",
      "Data columns (total 9 columns):\n",
      "mpg       392 non-null float64\n",
      "cyl       392 non-null category\n",
      "displ     392 non-null float64\n",
      "hp        392 non-null int64\n",
      "weight    392 non-null int64\n",
      "accel     392 non-null float64\n",
      "yr        392 non-null int64\n",
      "origin    392 non-null category\n",
      "name      392 non-null object\n",
      "dtypes: category(2), float64(3), int64(3), object(1)\n",
      "memory usage: 25.3+ KB\n",
      "None\n",
      "<class 'pandas.core.frame.DataFrame'>\n",
      "Int64Index: 392 entries, 0 to 391\n",
      "Data columns (total 9 columns):\n",
      "mpg       392 non-null float64\n",
      "cyl       392 non-null category\n",
      "displ     392 non-null float64\n",
      "hp        392 non-null int64\n",
      "weight    392 non-null int64\n",
      "accel     392 non-null float64\n",
      "yr        392 non-null int64\n",
      "origin    392 non-null category\n",
      "name      392 non-null object\n",
      "dtypes: category(2), float64(3), int64(3), object(1)\n",
      "memory usage: 25.3+ KB\n",
      "None\n"
     ]
    }
   ],
   "source": [
    "import edaHelper as eda\n",
    "from bokeh.sampledata.autompg import autompg\n",
    "a=eda.Regression(autompg,'mpg')\n",
    "print a.df.info()\n",
    "a.categorize()\n",
    "print a.df.info()"
   ]
  },
  {
   "cell_type": "code",
   "execution_count": 6,
   "metadata": {
    "collapsed": false
   },
   "outputs": [
    {
     "name": "stderr",
     "output_type": "stream",
     "text": [
      "/home/d/anaconda/lib/python2.7/site-packages/matplotlib/pyplot.py:424: RuntimeWarning: More than 20 figures have been opened. Figures created through the pyplot interface (`matplotlib.pyplot.figure`) are retained until explicitly closed and may consume too much memory. (To control this warning, see the rcParam `figure.max_open_warning`).\n",
      "  max_open_warning, RuntimeWarning)\n"
     ]
    }
   ],
   "source": [
    "import matplotlib as plt\n",
    "plt.figure.max_open_warning=200\n",
    "a.plot_all()"
   ]
  },
  {
   "cell_type": "code",
   "execution_count": 7,
   "metadata": {
    "collapsed": false
   },
   "outputs": [
    {
     "name": "stdout",
     "output_type": "stream",
     "text": [
      "mpg has  127  unique values\n",
      "displ has  81  unique values\n",
      "hp has  93  unique values\n",
      "weight has  346  unique values\n",
      "accel has  95  unique values\n",
      "yr has  13  unique values\n",
      "name has  301  unique values\n",
      "<class 'pandas.core.frame.DataFrame'>\n",
      "Int64Index: 392 entries, 0 to 391\n",
      "Data columns (total 9 columns):\n",
      "mpg       392 non-null float64\n",
      "cyl       392 non-null category\n",
      "displ     392 non-null float64\n",
      "hp        392 non-null int64\n",
      "weight    392 non-null int64\n",
      "accel     392 non-null float64\n",
      "yr        392 non-null int64\n",
      "origin    392 non-null category\n",
      "name      392 non-null object\n",
      "dtypes: category(2), float64(3), int64(3), object(1)\n",
      "memory usage: 25.3+ KB\n",
      "None\n",
      "8 in column cyl only has value set([1]) in column origin\n",
      "3 in column cyl only has value set([3]) in column origin\n",
      "5 in column cyl only has value set([2]) in column origin\n"
     ]
    }
   ],
   "source": [
    "a.categorize()\n",
    "a.plot_against_y()\n",
    "a.only()"
   ]
  },
  {
   "cell_type": "code",
   "execution_count": null,
   "metadata": {
    "collapsed": true
   },
   "outputs": [],
   "source": []
  }
 ],
 "metadata": {
  "kernelspec": {
   "display_name": "Python 2",
   "language": "python",
   "name": "python2"
  },
  "language_info": {
   "codemirror_mode": {
    "name": "ipython",
    "version": 2
   },
   "file_extension": ".py",
   "mimetype": "text/x-python",
   "name": "python",
   "nbconvert_exporter": "python",
   "pygments_lexer": "ipython2",
   "version": "2.7.10"
  }
 },
 "nbformat": 4,
 "nbformat_minor": 0
}
